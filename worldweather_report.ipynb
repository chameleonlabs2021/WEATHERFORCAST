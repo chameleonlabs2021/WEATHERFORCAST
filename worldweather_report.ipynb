{
 "cells": [
  {
   "cell_type": "code",
   "execution_count": 23,
   "id": "52f23680",
   "metadata": {},
   "outputs": [],
   "source": [
    "# import dask.dataframe as dd\n",
    "from pyspark.sql import SparkSession\n",
    "from pyspark.context import SparkContext\n",
    "from pyspark.sql.session import SparkSession\n",
    "from pyspark.sql.functions import broadcast\n",
    "from pyspark.sql.types import StructType\n",
    "from pyspark.sql.functions import unix_timestamp, from_unixtime, col, udf\n",
    "from pyspark.sql.types import DateType\n",
    "from datetime import datetime\n",
    "from pyspark.sql.functions import col, row_number\n",
    "from pyspark.sql.window import Window\n",
    "# sc = SparkContext('local')\n",
    "spark = SparkSession(sc)\n",
    "import pandas as pd\n",
    "# from dataprep.clean import validate_country\n",
    "import pyspark.sql.functions as F\n",
    "from pyspark.sql.functions import *\n",
    "from pyspark.sql.types import *"
   ]
  },
  {
   "cell_type": "code",
   "execution_count": 10,
   "id": "981a07d3",
   "metadata": {},
   "outputs": [],
   "source": [
    "df1 = spark.read.format(\"csv\").option(\"header\", \"true\").load(\"/home/jovyan/city_temperature_sample.csv\")\n",
    "df2 = spark.read.format(\"csv\").option(\"header\", \"true\").load(\"/home/jovyan/worldcities_sample.csv\")\n",
    "# df1.count()\n",
    "# df2.count()\n",
    "\n",
    "\n",
    "#Type cast day month and year to int \n",
    "df1=df1.withColumn('day',df1['day'].cast(\"int\").alias('day'))\n",
    "df1=df1.withColumn('month',df1['month'].cast(\"int\").alias('month'))\n",
    "df1=df1.withColumn('year',df1['year'].cast(\"int\").alias('year'))\n",
    "df1=df1.withColumn('AvgTemperature',df1['AvgTemperature'].cast(\"float\").alias('AvgTemperature'))\n",
    "df2=df2.withColumn('lat',df2['lat'].cast(\"float\").alias('lat'))\n",
    "df2=df2.withColumn('lng',df2['lng'].cast(\"float\").alias('lng'))\n",
    "\n",
    "df1.createOrReplaceTempView(\"city_temperature\")\n",
    "df2.createOrReplaceTempView(\"worldcities\")"
   ]
  },
  {
   "cell_type": "code",
   "execution_count": 11,
   "id": "96eefd5f",
   "metadata": {},
   "outputs": [],
   "source": [
    "\n",
    "city_temperature1=spark.sql(\"\"\"\n",
    "select Region, country as temp_country, State, City as city_temp,\n",
    "case when day >31 or day <1 then null else day end as day1, day,case when month >12 or month <1 then null else month end as month1,\n",
    "month,year, case when length(year) <4 or length(year) >4 then null else year end year1,\n",
    "AvgTemperature from city_temperature \"\"\")\n",
    "\n",
    "city_temperature1.createOrReplaceTempView(\"city_temperature1\")"
   ]
  },
  {
   "cell_type": "code",
   "execution_count": 12,
   "id": "f782cb7d",
   "metadata": {},
   "outputs": [],
   "source": [
    "\n",
    "df3=spark.sql(\"\"\"\n",
    "select Region, temp_country, State,city_temp, CONCAT(Day1, '/',  Month1, '/',Year1) as date_temp,\n",
    "day, month,year,\n",
    "AvgTemperature  from city_temperature1 \"\"\")\n",
    "broadcast_df=df3.join(broadcast(df2),df3.temp_country==df2.country).cache()\n",
    "\n",
    "#remove null field date fields\n",
    "\n",
    "# broadcast_df.na.drop(Seq(\"date_temp\")).show(false)\n",
    "broadcast_df=broadcast_df.where(broadcast_df.date_temp.isNotNull())\n"
   ]
  },
  {
   "cell_type": "code",
   "execution_count": 13,
   "id": "322129c3",
   "metadata": {},
   "outputs": [
    {
     "name": "stdout",
     "output_type": "stream",
     "text": [
      "+------+------------+-----+---------+---------+---+-----+----+--------------+-------+----------+-------+--------+-------+----+----+----------+-------+----------+----------+\n",
      "|Region|temp_country|State|city_temp|date_temp|day|month|year|AvgTemperature|   city|city_ascii|    lat|     lng|country|iso2|iso3|admin_name|capital|population|        id|\n",
      "+------+------------+-----+---------+---------+---+-----+----+--------------+-------+----------+-------+--------+-------+----+----+----------+-------+----------+----------+\n",
      "|Africa|       Japan| null|  Algiers| 1/1/1995|  1|    1|1995|          64.2|Tokyo12|     Tokyo|35.6897|139.6922|  Japan| JP1| JPN|     Tōkyō|primary|  37977000|1392685764|\n",
      "|Africa|       Japan| null|  Algiers|26/3/1995| 26|    3|1995|          54.7|Tokyo12|     Tokyo|35.6897|139.6922|  Japan| JP1| JPN|     Tōkyō|primary|  37977000|1392685764|\n",
      "|Africa|       Japan| null|  Algiers|27/3/1995| 27|    3|1995|          54.5|Tokyo12|     Tokyo|35.6897|139.6922|  Japan| JP1| JPN|     Tōkyō|primary|  37977000|1392685764|\n",
      "|Africa|       Japan| null|  Algiers|28/3/1995| 28|    3|1995|          53.4|Tokyo12|     Tokyo|35.6897|139.6922|  Japan| JP1| JPN|     Tōkyō|primary|  37977000|1392685764|\n",
      "|Africa|       Japan| null|  Algiers|29/3/1995| 29|    3|1995|          56.6|Tokyo12|     Tokyo|35.6897|139.6922|  Japan| JP1| JPN|     Tōkyō|primary|  37977000|1392685764|\n",
      "|Africa|       Japan| null|  Algiers|30/3/1995| 30|    3|1995|          53.2|Tokyo12|     Tokyo|35.6897|139.6922|  Japan| JP1| JPN|     Tōkyō|primary|  37977000|1392685764|\n",
      "|Africa|       Japan| null|  Algiers|31/3/1995| 31|    3|1995|          46.6|Tokyo12|     Tokyo|35.6897|139.6922|  Japan| JP1| JPN|     Tōkyō|primary|  37977000|1392685764|\n",
      "|Africa|       Japan| null|  Algiers| 1/4/1995|  1|    4|1995|          47.4|Tokyo12|     Tokyo|35.6897|139.6922|  Japan| JP1| JPN|     Tōkyō|primary|  37977000|1392685764|\n",
      "|Africa|       Japan| null|  Algiers| 2/4/1995|  2|    4|1995|          52.0|Tokyo12|     Tokyo|35.6897|139.6922|  Japan| JP1| JPN|     Tōkyō|primary|  37977000|1392685764|\n",
      "|Africa|       Japan| null|  Algiers| 3/4/1995|  3|    4|1995|          62.2|Tokyo12|     Tokyo|35.6897|139.6922|  Japan| JP1| JPN|     Tōkyō|primary|  37977000|1392685764|\n",
      "|Africa|       Japan| null|  Algiers| 4/4/1995|  4|    4|1995|          64.2|Tokyo12|     Tokyo|35.6897|139.6922|  Japan| JP1| JPN|     Tōkyō|primary|  37977000|1392685764|\n",
      "|Africa|       Japan| null|  Algiers| 5/4/1995|  5|    4|1995|          59.5|Tokyo12|     Tokyo|35.6897|139.6922|  Japan| JP1| JPN|     Tōkyō|primary|  37977000|1392685764|\n",
      "|Africa|       Japan| null|  Algiers| 6/4/1995|  6|    4|1995|          59.0|Tokyo12|     Tokyo|35.6897|139.6922|  Japan| JP1| JPN|     Tōkyō|primary|  37977000|1392685764|\n",
      "|Africa|       Japan| null|  Algiers| 7/4/1995|  7|    4|1995|          54.9|Tokyo12|     Tokyo|35.6897|139.6922|  Japan| JP1| JPN|     Tōkyō|primary|  37977000|1392685764|\n",
      "|Africa|       Japan| null|  Algiers| 8/4/1995|  8|    4|1995|          54.2|Tokyo12|     Tokyo|35.6897|139.6922|  Japan| JP1| JPN|     Tōkyō|primary|  37977000|1392685764|\n",
      "|Africa|       Japan| null|  Algiers|9/12/1995|  9|   12|1995|          57.8|Tokyo12|     Tokyo|35.6897|139.6922|  Japan| JP1| JPN|     Tōkyō|primary|  37977000|1392685764|\n",
      "|Africa|       Japan| null|  Algiers|15/4/1995| 15|    4|1995|          54.5|Tokyo12|     Tokyo|35.6897|139.6922|  Japan| JP1| JPN|     Tōkyō|primary|  37977000|1392685764|\n",
      "+------+------------+-----+---------+---------+---+-----+----+--------------+-------+----------+-------+--------+-------+----+----+----------+-------+----------+----------+\n",
      "\n"
     ]
    }
   ],
   "source": [
    "broadcast_df.show()"
   ]
  },
  {
   "cell_type": "code",
   "execution_count": null,
   "id": "6a859de2",
   "metadata": {},
   "outputs": [],
   "source": []
  },
  {
   "cell_type": "code",
   "execution_count": 14,
   "id": "89ba4b05",
   "metadata": {},
   "outputs": [
    {
     "name": "stdout",
     "output_type": "stream",
     "text": [
      "root\n",
      " |-- Region: string (nullable = true)\n",
      " |-- temp_country: string (nullable = true)\n",
      " |-- State: string (nullable = true)\n",
      " |-- city_temp: string (nullable = true)\n",
      " |-- date_temp: string (nullable = true)\n",
      " |-- day: integer (nullable = true)\n",
      " |-- month: integer (nullable = true)\n",
      " |-- year: integer (nullable = true)\n",
      " |-- AvgTemperature: float (nullable = true)\n",
      " |-- city: string (nullable = true)\n",
      " |-- city_ascii: string (nullable = true)\n",
      " |-- lat: float (nullable = true)\n",
      " |-- lng: float (nullable = true)\n",
      " |-- country: string (nullable = true)\n",
      " |-- iso2: string (nullable = true)\n",
      " |-- iso3: string (nullable = true)\n",
      " |-- admin_name: string (nullable = true)\n",
      " |-- capital: string (nullable = true)\n",
      " |-- population: string (nullable = true)\n",
      " |-- id: string (nullable = true)\n",
      " |-- date_new: date (nullable = true)\n",
      "\n",
      "+------+------------+-----+---------+---------+---+-----+----+--------------+-------+----------+-------+--------+-------+----+----+----------+-------+----------+----------+----------+\n",
      "|Region|temp_country|State|city_temp|date_temp|day|month|year|AvgTemperature|   city|city_ascii|    lat|     lng|country|iso2|iso3|admin_name|capital|population|        id|  date_new|\n",
      "+------+------------+-----+---------+---------+---+-----+----+--------------+-------+----------+-------+--------+-------+----+----+----------+-------+----------+----------+----------+\n",
      "|Africa|       Japan| null|  Algiers| 1/1/1995|  1|    1|1995|          64.2|Tokyo12|     Tokyo|35.6897|139.6922|  Japan| JP1| JPN|     Tōkyō|primary|  37977000|1392685764|1995-01-01|\n",
      "|Africa|       Japan| null|  Algiers|26/3/1995| 26|    3|1995|          54.7|Tokyo12|     Tokyo|35.6897|139.6922|  Japan| JP1| JPN|     Tōkyō|primary|  37977000|1392685764|1995-03-26|\n",
      "|Africa|       Japan| null|  Algiers|27/3/1995| 27|    3|1995|          54.5|Tokyo12|     Tokyo|35.6897|139.6922|  Japan| JP1| JPN|     Tōkyō|primary|  37977000|1392685764|1995-03-27|\n",
      "|Africa|       Japan| null|  Algiers|28/3/1995| 28|    3|1995|          53.4|Tokyo12|     Tokyo|35.6897|139.6922|  Japan| JP1| JPN|     Tōkyō|primary|  37977000|1392685764|1995-03-28|\n",
      "|Africa|       Japan| null|  Algiers|29/3/1995| 29|    3|1995|          56.6|Tokyo12|     Tokyo|35.6897|139.6922|  Japan| JP1| JPN|     Tōkyō|primary|  37977000|1392685764|1995-03-29|\n",
      "|Africa|       Japan| null|  Algiers|30/3/1995| 30|    3|1995|          53.2|Tokyo12|     Tokyo|35.6897|139.6922|  Japan| JP1| JPN|     Tōkyō|primary|  37977000|1392685764|1995-03-30|\n",
      "|Africa|       Japan| null|  Algiers|31/3/1995| 31|    3|1995|          46.6|Tokyo12|     Tokyo|35.6897|139.6922|  Japan| JP1| JPN|     Tōkyō|primary|  37977000|1392685764|1995-03-31|\n",
      "|Africa|       Japan| null|  Algiers| 1/4/1995|  1|    4|1995|          47.4|Tokyo12|     Tokyo|35.6897|139.6922|  Japan| JP1| JPN|     Tōkyō|primary|  37977000|1392685764|1995-04-01|\n",
      "|Africa|       Japan| null|  Algiers| 2/4/1995|  2|    4|1995|          52.0|Tokyo12|     Tokyo|35.6897|139.6922|  Japan| JP1| JPN|     Tōkyō|primary|  37977000|1392685764|1995-04-02|\n",
      "|Africa|       Japan| null|  Algiers| 3/4/1995|  3|    4|1995|          62.2|Tokyo12|     Tokyo|35.6897|139.6922|  Japan| JP1| JPN|     Tōkyō|primary|  37977000|1392685764|1995-04-03|\n",
      "|Africa|       Japan| null|  Algiers| 4/4/1995|  4|    4|1995|          64.2|Tokyo12|     Tokyo|35.6897|139.6922|  Japan| JP1| JPN|     Tōkyō|primary|  37977000|1392685764|1995-04-04|\n",
      "|Africa|       Japan| null|  Algiers| 5/4/1995|  5|    4|1995|          59.5|Tokyo12|     Tokyo|35.6897|139.6922|  Japan| JP1| JPN|     Tōkyō|primary|  37977000|1392685764|1995-04-05|\n",
      "|Africa|       Japan| null|  Algiers| 6/4/1995|  6|    4|1995|          59.0|Tokyo12|     Tokyo|35.6897|139.6922|  Japan| JP1| JPN|     Tōkyō|primary|  37977000|1392685764|1995-04-06|\n",
      "|Africa|       Japan| null|  Algiers| 7/4/1995|  7|    4|1995|          54.9|Tokyo12|     Tokyo|35.6897|139.6922|  Japan| JP1| JPN|     Tōkyō|primary|  37977000|1392685764|1995-04-07|\n",
      "|Africa|       Japan| null|  Algiers| 8/4/1995|  8|    4|1995|          54.2|Tokyo12|     Tokyo|35.6897|139.6922|  Japan| JP1| JPN|     Tōkyō|primary|  37977000|1392685764|1995-04-08|\n",
      "|Africa|       Japan| null|  Algiers|9/12/1995|  9|   12|1995|          57.8|Tokyo12|     Tokyo|35.6897|139.6922|  Japan| JP1| JPN|     Tōkyō|primary|  37977000|1392685764|1995-12-09|\n",
      "|Africa|       Japan| null|  Algiers|15/4/1995| 15|    4|1995|          54.5|Tokyo12|     Tokyo|35.6897|139.6922|  Japan| JP1| JPN|     Tōkyō|primary|  37977000|1392685764|1995-04-15|\n",
      "+------+------------+-----+---------+---------+---+-----+----+--------------+-------+----------+-------+--------+-------+----+----+----------+-------+----------+----------+----------+\n",
      "\n"
     ]
    }
   ],
   "source": [
    "from pyspark.sql.functions import unix_timestamp, from_unixtime\n",
    "func =  udf (lambda x: datetime.strptime(x, '%d/%m/%Y'), DateType())\n",
    "\n",
    "broadcast_df1 = broadcast_df.withColumn('date_new', func(col('date_temp')))\n",
    "broadcast_df1.printSchema()\n",
    "broadcast_df1.show()\n"
   ]
  },
  {
   "cell_type": "code",
   "execution_count": 19,
   "id": "f0eba4b3",
   "metadata": {},
   "outputs": [
    {
     "name": "stdout",
     "output_type": "stream",
     "text": [
      "+------+------------+-----+---------+---------+---+-----+----+--------------+-------+----------+-------+--------+-------+----+----+----------+-------+----------+----------+----------+\n",
      "|Region|temp_country|State|city_temp|date_temp|day|month|year|AvgTemperature|   city|city_ascii|    lat|     lng|country|iso2|iso3|admin_name|capital|population|        id|  date_new|\n",
      "+------+------------+-----+---------+---------+---+-----+----+--------------+-------+----------+-------+--------+-------+----+----+----------+-------+----------+----------+----------+\n",
      "|Africa|       Japan| null|  Algiers| 1/1/1995|  1|    1|1995|          64.2|Tokyo12|     Tokyo|35.6897|139.6922|  Japan| JP1| JPN|     Tōkyō|primary|  37977000|1392685764|1995-01-01|\n",
      "+------+------------+-----+---------+---------+---+-----+----+--------------+-------+----------+-------+--------+-------+----+----+----------+-------+----------+----------+----------+\n",
      "\n"
     ]
    }
   ],
   "source": [
    "#highest temperature  based on countries\n",
    "w3 = Window.partitionBy(\"country\").orderBy(col(\"AvgTemperature\").desc())\n",
    "broadcast_df1.withColumn(\"row\",row_number().over(w3)) \\\n",
    "  .filter(col(\"row\") == 1).drop(\"row\") \\\n",
    "  .show()\n"
   ]
  },
  {
   "cell_type": "code",
   "execution_count": 25,
   "id": "c1e70c30",
   "metadata": {},
   "outputs": [
    {
     "name": "stdout",
     "output_type": "stream",
     "text": [
      "+-------+-----------------+------------------+----+----+\n",
      "|country|              avg|               sum| min| max|\n",
      "+-------+-----------------+------------------+----+----+\n",
      "|  Japan|64.19999694824219|128.39999389648438|64.2|64.2|\n",
      "+-------+-----------------+------------------+----+----+\n",
      "\n"
     ]
    }
   ],
   "source": [
    "broadcast_df1.withColumn(\"row\",row_number().over(w3)) \\\n",
    "  .withColumn(\"avg\", avg(col(\"AvgTemperature\")).over(w3)) \\\n",
    "  .withColumn(\"sum\", sum(col(\"AvgTemperature\")).over(w3)) \\\n",
    "  .withColumn(\"min\", min(col(\"AvgTemperature\")).over(w3)) \\\n",
    "  .withColumn(\"max\", max(col(\"AvgTemperature\")).over(w3)) \\\n",
    "  .where(col(\"row\")==1).select(\"country\",\"avg\",\"sum\",\"min\",\"max\") \\\n",
    "  .show()"
   ]
  },
  {
   "cell_type": "code",
   "execution_count": null,
   "id": "0c2dafee",
   "metadata": {},
   "outputs": [],
   "source": []
  },
  {
   "cell_type": "code",
   "execution_count": null,
   "id": "326c2ef8",
   "metadata": {},
   "outputs": [],
   "source": [
    "\n"
   ]
  },
  {
   "cell_type": "code",
   "execution_count": null,
   "id": "93a0bd92",
   "metadata": {},
   "outputs": [],
   "source": []
  },
  {
   "cell_type": "code",
   "execution_count": null,
   "id": "b4afa936",
   "metadata": {},
   "outputs": [],
   "source": []
  },
  {
   "cell_type": "code",
   "execution_count": null,
   "id": "8e9e5e74",
   "metadata": {},
   "outputs": [],
   "source": []
  },
  {
   "cell_type": "code",
   "execution_count": null,
   "id": "7ae14363",
   "metadata": {},
   "outputs": [],
   "source": []
  },
  {
   "cell_type": "code",
   "execution_count": null,
   "id": "cb9a2920",
   "metadata": {},
   "outputs": [],
   "source": []
  },
  {
   "cell_type": "code",
   "execution_count": null,
   "id": "ce3f1ae3",
   "metadata": {},
   "outputs": [],
   "source": []
  }
 ],
 "metadata": {
  "kernelspec": {
   "display_name": "Python 3 (ipykernel)",
   "language": "python",
   "name": "python3"
  },
  "language_info": {
   "codemirror_mode": {
    "name": "ipython",
    "version": 3
   },
   "file_extension": ".py",
   "mimetype": "text/x-python",
   "name": "python",
   "nbconvert_exporter": "python",
   "pygments_lexer": "ipython3",
   "version": "3.9.7"
  }
 },
 "nbformat": 4,
 "nbformat_minor": 5
}
